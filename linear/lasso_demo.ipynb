{
  "cells": [
    {
      "cell_type": "markdown",
      "metadata": {
        "id": "LFbFXb8SWFmK"
      },
      "source": [
        "## This is a demonstration for using spred to solve the classical lasso problem. \n",
        "\n",
        "Actually, this problem is the lasso problem in the rather benign regime, often called the compressive sensing problem."
      ]
    },
    {
      "cell_type": "code",
      "execution_count": 4,
      "metadata": {
        "id": "Jy3E-w1lWGUA"
      },
      "outputs": [],
      "source": [
        "import numpy as np\n",
        "import time\n",
        "import matplotlib.pyplot as plt\n",
        "from sklearn import linear_model\n",
        "import numpy as np\n",
        "\n",
        "%matplotlib inline"
      ]
    },
    {
      "cell_type": "code",
      "execution_count": 5,
      "metadata": {
        "id": "rteb8ElBPPup"
      },
      "outputs": [],
      "source": [
        "\n",
        "## to make lasso even slower, try N = 400000\n",
        "N = 40000\n",
        "M = 100\n",
        "\n",
        "## this is a compressive sensing task with sparse feature\n",
        "A = np.random.normal(0.0, 1.0/ N**0.5, (M, N))\n",
        "x_0 = np.random.normal(0.0, 1.0, N)\n",
        "x_0 = np.random.binomial(1.0, 0.1, N) * x_0\n",
        "y = A @ x_0 + np.random.normal(0.0, 1e-2, M)"
      ]
    },
    {
      "cell_type": "code",
      "execution_count": 6,
      "metadata": {
        "colab": {
          "base_uri": "https://localhost:8080/"
        },
        "id": "iul4rl97PUw7",
        "outputId": "a011b4de-856d-43bf-a485-57b3f350a467"
      },
      "outputs": [
        {
          "name": "stdout",
          "output_type": "stream",
          "text": [
            "9.494288682937622 sec\n"
          ]
        }
      ],
      "source": [
        "\n",
        "lasso = linear_model.Lasso(alpha=1e-5, tol=1e-12, max_iter=int(1e6), fit_intercept=False)\n",
        "t1 = time.time()\n",
        "lasso.fit(A, y)\n",
        "t2 = time.time()\n",
        "print(t2 - t1, \"sec\")"
      ]
    },
    {
      "cell_type": "code",
      "execution_count": 7,
      "metadata": {
        "id": "mqCDZUlMPWah"
      },
      "outputs": [],
      "source": [
        "import torch\n",
        "import torch.nn as nn\n",
        "import torch.nn.functional as F\n",
        "import torch.optim as optim\n",
        "import matplotlib.pyplot as plt\n",
        "from torch.optim.optimizer import Optimizer, required\n",
        "\n",
        "\n",
        "import scipy as sp\n",
        "\n",
        "import sklearn.covariance as cov"
      ]
    },
    {
      "cell_type": "markdown",
      "metadata": {
        "id": "rY-NQj1EWql6"
      },
      "source": [
        "## Here is a spred linear perceptron\n"
      ]
    },
    {
      "cell_type": "code",
      "execution_count": 8,
      "metadata": {
        "colab": {
          "base_uri": "https://localhost:8080/"
        },
        "id": "r8hkhhaOPlZW",
        "outputId": "5704262d-2449-437c-a6ec-5f6442085231"
      },
      "outputs": [
        {
          "name": "stdout",
          "output_type": "stream",
          "text": [
            "tensor([ 0.9037, -0.0849,  0.6737,  ..., -0.3382,  0.2353, -0.4636],\n",
            "       device='cuda:0', grad_fn=<MulBackward0>)\n"
          ]
        }
      ],
      "source": [
        "class Net(nn.Module):\n",
        "    def __init__(self, dim=N):\n",
        "        super(Net, self).__init__()\n",
        "        self.weight = nn.Parameter(torch.zeros(dim).normal_(0, 1/2))\n",
        "        self.weight2 = nn.Parameter(torch.zeros(dim).normal_(0, 1/2))\n",
        "\n",
        "    def forward(self, x):\n",
        "\n",
        "        return self.weight * self.weight2\n",
        "\n",
        "model = Net().cuda()\n",
        "print(model(1))"
      ]
    },
    {
      "cell_type": "code",
      "execution_count": 9,
      "metadata": {
        "colab": {
          "base_uri": "https://localhost:8080/"
        },
        "id": "rdVHMlv2P3yi",
        "outputId": "e1122658-6580-4da1-808a-a3ace9dd10e2"
      },
      "outputs": [
        {
          "name": "stdout",
          "output_type": "stream",
          "text": [
            "6.98713231086731\n"
          ]
        }
      ],
      "source": [
        "### let us train with Adam\n",
        "\n",
        "model = Net(dim=40000).cuda()\n",
        "opt = torch.optim.Adam(model.parameters(), lr=1e-2, weight_decay= 2 * 1e-5)\n",
        "losses = []\n",
        "\n",
        "Atorch = torch.tensor(A).cuda().float()\n",
        "ytorch = torch.tensor(y).cuda().float()\n",
        "\n",
        "t1 = time.time()\n",
        "for j in range(10000):\n",
        "  w = model(1)\n",
        "  loss = F.mse_loss(Atorch @ w, ytorch)\n",
        "  opt.zero_grad()\n",
        "  loss.backward()\n",
        "  opt.step()\n",
        "  losses.append(loss.item())\n",
        "t2 = time.time()\n",
        "print(t2-t1)"
      ]
    },
    {
      "cell_type": "code",
      "execution_count": 10,
      "metadata": {
        "colab": {
          "base_uri": "https://localhost:8080/",
          "height": 286
        },
        "id": "5MWXkaFNQCSK",
        "outputId": "51c5fcb9-ec19-46f8-852e-60ef4da29570"
      },
      "outputs": [
        {
          "data": {
            "text/plain": [
              "[]"
            ]
          },
          "execution_count": 10,
          "metadata": {},
          "output_type": "execute_result"
        },
        {
          "data": {
            "image/png": "[encoded data removed]",
            "text/plain": [
              "<Figure size 640x480 with 1 Axes>"
            ]
          },
          "metadata": {},
          "output_type": "display_data"
        }
      ],
      "source": [
        "## the model has roughly converged\n",
        "plt.plot(losses)\n",
        "plt.loglog()"
      ]
    },
    {
      "cell_type": "code",
      "execution_count": 11,
      "metadata": {
        "colab": {
          "base_uri": "https://localhost:8080/",
          "height": 265
        },
        "id": "KmaQPpgpXKv_",
        "outputId": "c43b6fb1-1f7c-4921-dadc-fa6d4bfd899f"
      },
      "outputs": [
        {
          "data": {
            "image/png": "[encoded data removed]",
            "text/plain": [
              "<Figure size 640x480 with 1 Axes>"
            ]
          },
          "metadata": {},
          "output_type": "display_data"
        }
      ],
      "source": [
        "## two distributions agree very well\n",
        "plt.hist(lasso.coef_)\n",
        "plt.hist(w.detach().cpu(), alpha=0.5)\n",
        "\n",
        "plt.yscale('log')"
      ]
    },
    {
      "cell_type": "code",
      "execution_count": 12,
      "metadata": {
        "colab": {
          "base_uri": "https://localhost:8080/"
        },
        "id": "b7JLDaIJQYVF",
        "outputId": "b02f1ded-687b-4e7d-e62f-54d0b85d83d5"
      },
      "outputs": [
        {
          "name": "stdout",
          "output_type": "stream",
          "text": [
            "tensor(0.9975)\n",
            "tensor(0.9975)\n",
            "tensor(0.9975)\n",
            "tensor(0.9972)\n"
          ]
        }
      ],
      "source": [
        "print((w.abs().detach().cpu() < 1e-5).float().mean())\n",
        "print((w.abs().detach().cpu() < 1e-6).float().mean())\n",
        "print((w.abs().detach().cpu() < 1e-10).float().mean())\n",
        "print((w.abs().detach().cpu() == 0).float().mean())"
      ]
    },
    {
      "cell_type": "code",
      "execution_count": 13,
      "metadata": {
        "colab": {
          "base_uri": "https://localhost:8080/"
        },
        "id": "PjvBg18ZQiJ8",
        "outputId": "cf493df4-f5c0-4f2a-b513-86c9681a1b00"
      },
      "outputs": [
        {
          "data": {
            "text/plain": [
              "tensor(0.9976)"
            ]
          },
          "execution_count": 13,
          "metadata": {},
          "output_type": "execute_result"
        }
      ],
      "source": [
        "## the agreement with lasso on the sparse features is very good\n",
        "torch.tensor((lasso.coef_  == 0)).float().mean()"
      ]
    },
    {
      "cell_type": "code",
      "execution_count": 14,
      "metadata": {
        "id": "DKfuqfu7Rkr-"
      },
      "outputs": [],
      "source": [
        "## ok now lets try a much harder problem\n",
        "\n",
        "N = 400000\n",
        "M = 100\n",
        "\n",
        "## this is a compressive sensing task with sparse feature\n",
        "A = np.random.normal(0.0, 1.0/ N**0.5, (M, N))\n",
        "x_0 = np.random.normal(0.0, 1.0, N)\n",
        "x_0 = np.random.binomial(1.0, 0.1, N) * x_0\n",
        "y = A @ x_0 + np.random.normal(0.0, 1e-2, M)"
      ]
    },
    {
      "cell_type": "code",
      "execution_count": 15,
      "metadata": {
        "colab": {
          "base_uri": "https://localhost:8080/"
        },
        "id": "EC1HaZioS18W",
        "outputId": "a4566fc8-915a-4385-c39b-bb3fc045f8a6"
      },
      "outputs": [
        {
          "name": "stdout",
          "output_type": "stream",
          "text": [
            "11.464682817459106\n"
          ]
        }
      ],
      "source": [
        "### let us train with Adam\n",
        "\n",
        "model = Net(dim=N).cuda()\n",
        "opt = torch.optim.Adam(model.parameters(), lr=1e-2, weight_decay= 2 * 1e-5)\n",
        "losses = []\n",
        "\n",
        "Atorch = torch.tensor(A).cuda().float()\n",
        "ytorch = torch.tensor(y).cuda().float()\n",
        "\n",
        "t1 = time.time()\n",
        "for j in range(10000):\n",
        "  w = model(1)\n",
        "  loss = F.mse_loss(Atorch @ w, ytorch)\n",
        "  opt.zero_grad()\n",
        "  loss.backward()\n",
        "  opt.step()\n",
        "  losses.append(loss.item())\n",
        "t2 = time.time()\n",
        "print(t2-t1)"
      ]
    },
    {
      "cell_type": "code",
      "execution_count": 16,
      "metadata": {
        "colab": {
          "base_uri": "https://localhost:8080/",
          "height": 286
        },
        "id": "rDlqbbY2TSC-",
        "outputId": "1d4e62fe-6b87-4bf1-9588-70e837bc82b0"
      },
      "outputs": [
        {
          "data": {
            "text/plain": [
              "[]"
            ]
          },
          "execution_count": 16,
          "metadata": {},
          "output_type": "execute_result"
        },
        {
          "data": {
            "image/png": "[encoded data removed]",
            "text/plain": [
              "<Figure size 640x480 with 1 Axes>"
            ]
          },
          "metadata": {},
          "output_type": "display_data"
        }
      ],
      "source": [
        "## the model has roughly converged\n",
        "plt.plot(losses)\n",
        "plt.loglog()"
      ]
    },
    {
      "cell_type": "code",
      "execution_count": 17,
      "metadata": {
        "colab": {
          "base_uri": "https://localhost:8080/"
        },
        "id": "yPruchLFS5-m",
        "outputId": "e33082aa-6e63-4bc6-d659-49f86bacc46a"
      },
      "outputs": [
        {
          "name": "stdout",
          "output_type": "stream",
          "text": [
            "tensor(0.9998)\n",
            "tensor(0.9998)\n",
            "tensor(0.9998)\n",
            "tensor(0.9997)\n"
          ]
        }
      ],
      "source": [
        "print((w.abs().detach().cpu() < 1e-5).float().mean())\n",
        "print((w.abs().detach().cpu() < 1e-6).float().mean())\n",
        "print((w.abs().detach().cpu() < 1e-10).float().mean())\n",
        "print((w.abs().detach().cpu() == 0).float().mean())"
      ]
    },
    {
      "cell_type": "code",
      "execution_count": 18,
      "metadata": {
        "colab": {
          "base_uri": "https://localhost:8080/"
        },
        "id": "b6VPexfcS8Y2",
        "outputId": "de165a2c-2bf7-4c4e-99e5-21c835576dc1"
      },
      "outputs": [
        {
          "name": "stdout",
          "output_type": "stream",
          "text": [
            "174.65004229545593 sec\n"
          ]
        }
      ],
      "source": [
        "## now try lasso if you have the patience\n",
        "\n",
        "t1 = time.time()\n",
        "lasso = linear_model.Lasso(alpha=1e-5, tol=1e-12, max_iter=int(1e6), fit_intercept=False)\n",
        "lasso.fit(A, y)\n",
        "t2 = time.time()\n",
        "print(t2 - t1, \"sec\")"
      ]
    },
    {
      "cell_type": "code",
      "execution_count": 19,
      "metadata": {
        "colab": {
          "base_uri": "https://localhost:8080/"
        },
        "id": "n7tLeXVlTfBu",
        "outputId": "e49d1795-313e-4bc6-bb18-968e38046f4a"
      },
      "outputs": [
        {
          "data": {
            "text/plain": [
              "tensor(0.9998)"
            ]
          },
          "execution_count": 19,
          "metadata": {},
          "output_type": "execute_result"
        }
      ],
      "source": [
        "## agreement\n",
        "torch.tensor((lasso.coef_  == 0)).float().mean()"
      ]
    },
    {
      "cell_type": "code",
      "execution_count": null,
      "metadata": {
        "id": "p6tpcQk9UX09"
      },
      "outputs": [],
      "source": []
    }
  ],
  "metadata": {
    "accelerator": "GPU",
    "colab": {
      "collapsed_sections": [],
      "provenance": []
    },
    "kernelspec": {
      "display_name": "spred",
      "language": "python",
      "name": "python3"
    },
    "language_info": {
      "codemirror_mode": {
        "name": "ipython",
        "version": 3
      },
      "file_extension": ".py",
      "mimetype": "text/x-python",
      "name": "python",
      "nbconvert_exporter": "python",
      "pygments_lexer": "ipython3",
      "version": "3.11.11"
    }
  },
  "nbformat": 4,
  "nbformat_minor": 0
}
